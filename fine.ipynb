{
 "cells": [
  {
   "cell_type": "code",
   "execution_count": 32,
   "metadata": {},
   "outputs": [],
   "source": [
    "import os\n",
    "\n",
    "import openai\n",
    "\n",
    "openai.api_key = os.getenv(\"OPENAI_API_KEY\")\n"
   ]
  },
  {
   "cell_type": "code",
   "execution_count": 37,
   "metadata": {},
   "outputs": [
    {
     "data": {
      "text/plain": [
       "<File file id=file-BlcgTaVU6rX2ujCoCSIC0DxU at 0x10b69b770> JSON: {\n",
       "  \"object\": \"file\",\n",
       "  \"id\": \"file-BlcgTaVU6rX2ujCoCSIC0DxU\",\n",
       "  \"purpose\": \"fine-tune\",\n",
       "  \"filename\": \"file\",\n",
       "  \"bytes\": 47512,\n",
       "  \"created_at\": 1692968821,\n",
       "  \"status\": \"uploaded\",\n",
       "  \"status_details\": null\n",
       "}"
      ]
     },
     "execution_count": 37,
     "metadata": {},
     "output_type": "execute_result"
    }
   ],
   "source": [
    "openai.File.create(\n",
    "\n",
    "  file=open(\"merged_output.jsonl\", \"rb\"),\n",
    "\n",
    "  purpose='fine-tune'\n",
    "\n",
    ")"
   ]
  },
  {
   "cell_type": "code",
   "execution_count": 38,
   "metadata": {},
   "outputs": [
    {
     "data": {
      "text/plain": [
       "<FineTuningJob fine_tuning.job id=ftjob-D3ObjDnScCKTXWlQDn7m9Hv4 at 0x10b69c090> JSON: {\n",
       "  \"object\": \"fine_tuning.job\",\n",
       "  \"id\": \"ftjob-D3ObjDnScCKTXWlQDn7m9Hv4\",\n",
       "  \"model\": \"gpt-3.5-turbo-0613\",\n",
       "  \"created_at\": 1692968849,\n",
       "  \"finished_at\": null,\n",
       "  \"fine_tuned_model\": null,\n",
       "  \"organization_id\": \"org-QGMQNqzO5AZpg9xl00oxeaGx\",\n",
       "  \"result_files\": [],\n",
       "  \"status\": \"created\",\n",
       "  \"validation_file\": null,\n",
       "  \"training_file\": \"file-BlcgTaVU6rX2ujCoCSIC0DxU\",\n",
       "  \"hyperparameters\": {\n",
       "    \"n_epochs\": 3\n",
       "  },\n",
       "  \"trained_tokens\": null\n",
       "}"
      ]
     },
     "execution_count": 38,
     "metadata": {},
     "output_type": "execute_result"
    }
   ],
   "source": [
    "openai.FineTuningJob.create(training_file=\"file-BlcgTaVU6rX2ujCoCSIC0DxU\", model=\"gpt-3.5-turbo\")\n"
   ]
  },
  {
   "cell_type": "code",
   "execution_count": 43,
   "metadata": {},
   "outputs": [
    {
     "data": {
      "text/plain": [
       "<FineTuningJob fine_tuning.job id=ftjob-D3ObjDnScCKTXWlQDn7m9Hv4 at 0x10b622540> JSON: {\n",
       "  \"object\": \"fine_tuning.job\",\n",
       "  \"id\": \"ftjob-D3ObjDnScCKTXWlQDn7m9Hv4\",\n",
       "  \"model\": \"gpt-3.5-turbo-0613\",\n",
       "  \"created_at\": 1692968849,\n",
       "  \"finished_at\": 1692969455,\n",
       "  \"fine_tuned_model\": \"ft:gpt-3.5-turbo-0613:blenheim-chalcot::7rQyrPOz\",\n",
       "  \"organization_id\": \"org-QGMQNqzO5AZpg9xl00oxeaGx\",\n",
       "  \"result_files\": [\n",
       "    \"file-CCgR6j6wJxmN0j2hsSel3pqx\"\n",
       "  ],\n",
       "  \"status\": \"succeeded\",\n",
       "  \"validation_file\": null,\n",
       "  \"training_file\": \"file-BlcgTaVU6rX2ujCoCSIC0DxU\",\n",
       "  \"hyperparameters\": {\n",
       "    \"n_epochs\": 3\n",
       "  },\n",
       "  \"trained_tokens\": 27372\n",
       "}"
      ]
     },
     "execution_count": 43,
     "metadata": {},
     "output_type": "execute_result"
    }
   ],
   "source": [
    "openai.FineTuningJob.retrieve(\"ftjob-D3ObjDnScCKTXWlQDn7m9Hv4\")\n"
   ]
  },
  {
   "cell_type": "code",
   "execution_count": 79,
   "metadata": {},
   "outputs": [],
   "source": [
    "completion = openai.ChatCompletion.create(\n",
    "\n",
    "  model=\"ft:gpt-3.5-turbo-0613:blenheim-chalcot::7rQyrPOz\",\n",
    "\n",
    "  messages=[\n",
    "    {\"role\": \"system\", \"content\": \"Give me the sentence analysis of which category is it.\"},\n",
    "    {\"role\": \"user\", \"content\": \"The weather is hot\"}\n",
    "\n",
    "  ]\n",
    "\n",
    ")"
   ]
  },
  {
   "cell_type": "code",
   "execution_count": null,
   "metadata": {},
   "outputs": [],
   "source": [
    "print(completion.choices[0].message[\"content\"])"
   ]
  }
 ],
 "metadata": {
  "language_info": {
   "name": "python"
  },
  "orig_nbformat": 4
 },
 "nbformat": 4,
 "nbformat_minor": 2
}
